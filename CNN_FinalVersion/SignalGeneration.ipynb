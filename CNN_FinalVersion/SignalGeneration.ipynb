{
 "cells": [
  {
   "cell_type": "code",
   "execution_count": 6,
   "metadata": {},
   "outputs": [],
   "source": [
    "import numpy as np\n",
    "from scipy.io.wavfile import write\n",
    "import os\n",
    "from tqdm import tqdm"
   ]
  },
  {
   "cell_type": "markdown",
   "metadata": {},
   "source": [
    "count_wav_files_in_folder() function count how many files in the certain folder"
   ]
  },
  {
   "cell_type": "code",
   "execution_count": 7,
   "metadata": {},
   "outputs": [],
   "source": [
    "def count_wav_files_in_folder(folder_path):\n",
    "    wav_count = 0\n",
    "    for filename in os.listdir(folder_path):\n",
    "        if filename.endswith(\".wav\"):\n",
    "            wav_count += 1\n",
    "    return wav_count"
   ]
  },
  {
   "cell_type": "markdown",
   "metadata": {},
   "source": [
    "These cell include every changable parameters in the Signal Generation part:\n",
    "\n",
    "1. folder_1 and folder_2 are the signals collected from LoRa Transceiver by HackRF One.\n",
    "2. We assume the amount of the signals are fixed since the VRAM limitaion. Therefore, the generated signals should be (Fixed numbers) minus (All LoRa signal).\n",
    "3. Other parameters are affected to the generated signals. These parameters make them closed to the LoRa signal while maintain differences with each of them.\n"
   ]
  },
  {
   "cell_type": "markdown",
   "metadata": {},
   "source": []
  },
  {
   "cell_type": "code",
   "execution_count": 8,
   "metadata": {},
   "outputs": [],
   "source": [
    "folder_1 = '/Users/yukewei/SP-testing/HackRFOneSignal/AttackerSignal'\n",
    "folder_2 = '/Users/yukewei/SP-testing/HackRFOneSignal/KeyFobSignal'\n",
    "output_folder = \"/Users/yukewei/SP-testing/Generated Signal/Non processed Signal/\"\n",
    "\n",
    "num_files = 10000 - count_wav_files_in_folder(folder_1) - count_wav_files_in_folder(folder_2)  # Number of .wav files to generate\n",
    "duration = 0.3  # Total duration of the .wav file (300ms)\n",
    "actual_duration = 0.22  # Actual signal duration (220ms)\n",
    "sample_rate = 2000000\n",
    "fixed_frequency = 433000000  # 433 MHz\n",
    "frequency_range = 0.0625e6  # ±0.0625 MHz\n",
    "\n",
    "total_duration = 0.3  # Total duration of the .wav file (300ms)\n",
    "allowed_start_range = (0.0, 0.08)  # Allowed start time range (0ms to 80ms) like  LoRa signals\n",
    "\n",
    "amplitude_range = (0.5, 10)\n",
    "phase_range = (0, 2 * np.pi)\n",
    "\n",
    "\n",
    "noise_amplitude = 100  \n",
    "\n",
    "if not os.path.exists(output_folder):\n",
    "    os.makedirs(output_folder)"
   ]
  },
  {
   "cell_type": "code",
   "execution_count": 10,
   "metadata": {},
   "outputs": [
    {
     "name": "stderr",
     "output_type": "stream",
     "text": [
      "Generating .wav files:   0%|          | 0/5918 [00:00<?, ?it/s]"
     ]
    },
    {
     "name": "stderr",
     "output_type": "stream",
     "text": [
      "Generating .wav files: 100%|██████████| 5918/5918 [01:23<00:00, 70.95it/s]"
     ]
    },
    {
     "name": "stdout",
     "output_type": "stream",
     "text": [
      "Generation of .wav files with variations and randomly added noise complete.\n"
     ]
    },
    {
     "name": "stderr",
     "output_type": "stream",
     "text": [
      "\n"
     ]
    }
   ],
   "source": [
    "with tqdm(total=num_files, desc=\"Generating .wav files\") as pbar:\n",
    "    for i in range(num_files):\n",
    "        # Generate random amplitudes, phases, and start times\n",
    "        amplitude = np.random.uniform(amplitude_range[0], amplitude_range[1])\n",
    "        phase_offset = np.random.uniform(phase_range[0], phase_range[1])\n",
    "        start_time = np.random.uniform(allowed_start_range[0], allowed_start_range[1])\n",
    "\n",
    "        # Calculate the end time based on the allowed start time and signal duration\n",
    "        end_time = start_time + actual_duration\n",
    "\n",
    "        # Generate the actual signal\n",
    "        t_signal = np.linspace(start_time, end_time, int(sample_rate * actual_duration), endpoint=False)\n",
    "\n",
    "        frequency_offset = np.random.uniform(-frequency_range, frequency_range)  # Random frequency offset\n",
    "\n",
    "        # Create a signal with a range of frequencies\n",
    "        actual_frequencies = fixed_frequency + frequency_offset\n",
    "        signal = amplitude * np.sin(2 * np.pi * actual_frequencies * t_signal + phase_offset)\n",
    "\n",
    "        # Generate random noise to make the signal less cyclical\n",
    "        noise = noise_amplitude * np.random.randn(len(signal))\n",
    "        signal += noise\n",
    "\n",
    "        # Generate random silent space before and after the signal.\n",
    "        # The signal cannot be splitted by silent space\n",
    "        pre_silence_duration = start_time\n",
    "        post_silence_duration = total_duration - end_time\n",
    "\n",
    "        pre_silence_samples = int(pre_silence_duration * sample_rate)\n",
    "        post_silence_samples = int(post_silence_duration * sample_rate)\n",
    "\n",
    "        \n",
    "        \n",
    "        if pre_silence_samples > 0:\n",
    "            pre_silence = np.zeros(pre_silence_samples)\n",
    "            signal = np.concatenate((pre_silence, signal))\n",
    "            \n",
    "\n",
    "        if post_silence_samples > 0:\n",
    "            post_silence = np.zeros(post_silence_samples)\n",
    "            signal = np.concatenate((signal, post_silence))\n",
    "            \n",
    "\n",
    "        # Ensure the final signal duration is 300ms\n",
    "        if len(signal) > sample_rate * total_duration:\n",
    "            signal = signal[:int(sample_rate * total_duration)]\n",
    "        elif len(signal) < sample_rate * total_duration:\n",
    "            # Add zeros to the end of the signal to make it 300ms\n",
    "            zeros_to_add = int(sample_rate * total_duration) - len(signal)\n",
    "            signal = np.concatenate((signal, np.zeros(zeros_to_add)))\n",
    "\n",
    "        # Convert signal to 16-bit PCM format\n",
    "        signal_int16 = np.int16(signal * 32767)\n",
    "\n",
    "        # Define the filename based on the variations\n",
    "        filename = f\"{int(actual_frequencies / 1e6)}MHz_{sample_rate}Hz_{i}.wav\"\n",
    "        filepath = os.path.join(output_folder, filename)\n",
    "\n",
    "        # Save the signal as a .wav file\n",
    "        write(filepath, sample_rate, signal_int16)\n",
    "        pbar.update(1)\n",
    "\n",
    "print(\"Generation of .wav files with variations and randomly added noise complete.\")\n"
   ]
  }
 ],
 "metadata": {
  "kernelspec": {
   "display_name": "tensorflow",
   "language": "python",
   "name": "python3"
  },
  "language_info": {
   "codemirror_mode": {
    "name": "ipython",
    "version": 3
   },
   "file_extension": ".py",
   "mimetype": "text/x-python",
   "name": "python",
   "nbconvert_exporter": "python",
   "pygments_lexer": "ipython3",
   "version": "3.9.16"
  }
 },
 "nbformat": 4,
 "nbformat_minor": 2
}
