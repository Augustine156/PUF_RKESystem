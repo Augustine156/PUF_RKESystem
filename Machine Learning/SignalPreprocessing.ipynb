{
 "cells": [
  {
   "cell_type": "code",
   "execution_count": 1,
   "metadata": {},
   "outputs": [
    {
     "name": "stderr",
     "output_type": "stream",
     "text": [
      "/Users/yukewei/anaconda3/envs/SProject/lib/python3.9/site-packages/pydub/utils.py:170: RuntimeWarning: Couldn't find ffmpeg or avconv - defaulting to ffmpeg, but may not work\n",
      "  warn(\"Couldn't find ffmpeg or avconv - defaulting to ffmpeg, but may not work\", RuntimeWarning)\n"
     ]
    }
   ],
   "source": [
    "import os\n",
    "from pydub import AudioSegment\n",
    "from tqdm import tqdm\n",
    "import librosa\n",
    "import numpy as np\n",
    "import soundfile as sf"
   ]
  },
  {
   "cell_type": "code",
   "execution_count": 2,
   "metadata": {},
   "outputs": [],
   "source": [
    "KEYFOBFOLDER = \"/Users/yukewei/SP-testing/HackRFOneSignal/KeyFobSignal\"\n",
    "ATTACKERFOLDER = \"/Users/yukewei/SP-testing/HackRFOneSignal/AttackerSignal\"\n",
    "GENERATEDFOLDER = \"/Users/yukewei/SP-testing/Generated Signal\"\n",
    "input_data_1 = \"/Users/yukewei/SP-testing/Machine Learning Model/CNN/input_data_1\"\n",
    "input_data_0 = \"/Users/yukewei/SP-testing/Machine Learning Model/CNN/input_data_0\""
   ]
  },
  {
   "cell_type": "markdown",
   "metadata": {},
   "source": [
    "Preprocessing will do two function:\n",
    "1. check the signals sizes are 600000(sample rate * signal duration = 2000000 * 0.3 )\n",
    "2. change the signals from stereo to mono if needed"
   ]
  },
  {
   "cell_type": "code",
   "execution_count": 3,
   "metadata": {},
   "outputs": [],
   "source": [
    "def check_300ms(folder_path):\n",
    "    for filename in tqdm(os.listdir(folder_path), desc=f\"Processing {folder_path}\"):\n",
    "        if filename.endswith(\".wav\"):\n",
    "            file_path = os.path.join(folder_path, filename)\n",
    "            \n",
    "            # Load the audio using librosa\n",
    "            audio, sample_rate = librosa.load(file_path, sr=None, mono=True)\n",
    "            \n",
    "            # Check if the audio is shorter than 600,000 samples\n",
    "            if len(audio) < 600000:\n",
    "                pad_length = 600000 - len(audio)\n",
    "                # Pad the audio with zeros to reach the desired length\n",
    "                audio = np.pad(audio, (0, pad_length), mode='constant')\n",
    "                \n",
    "                # Overwrite the original audio file\n",
    "                sf.write(file_path, audio, sample_rate, subtype='PCM_16')"
   ]
  },
  {
   "cell_type": "code",
   "execution_count": 4,
   "metadata": {},
   "outputs": [],
   "source": [
    "# Function to convert audio to mono and save\n",
    "def convert_to_mono_and_save(input_folder, output_folder):\n",
    "    for filename in tqdm(os.listdir(input_folder), desc=f\"Processing {input_folder}\"):\n",
    "        if filename.endswith(\".wav\"):\n",
    "            file_path = os.path.join(input_folder, filename)\n",
    "            num_channels = AudioSegment.from_file(file_path).channels\n",
    "\n",
    "            # Convert to mono audio if not already mono\n",
    "            audio = AudioSegment.from_file(file_path, format=\"wav\")\n",
    "            if num_channels > 1:\n",
    "                audio = audio.set_channels(1)\n",
    "                \n",
    "            output_file = os.path.join(output_folder, f\"mono_{filename}\")\n",
    "            audio.export(output_file, format=\"wav\")"
   ]
  },
  {
   "cell_type": "code",
   "execution_count": 5,
   "metadata": {},
   "outputs": [],
   "source": [
    "def process_audio_folder(input_folder, output_folder):\n",
    "    # Create the output folder if it doesn't exist\n",
    "    if not os.path.exists(output_folder):\n",
    "        os.makedirs(output_folder)\n",
    "\n",
    "    # Process audio files in the input folder\n",
    "    check_300ms(input_folder)\n",
    "    convert_to_mono_and_save(input_folder, output_folder)"
   ]
  },
  {
   "cell_type": "code",
   "execution_count": 6,
   "metadata": {},
   "outputs": [
    {
     "name": "stderr",
     "output_type": "stream",
     "text": [
      "Processing /Users/yukewei/SP-testing/HackRFOneSignal/KeyFobSignal:   0%|          | 0/2664 [00:00<?, ?it/s]"
     ]
    },
    {
     "name": "stderr",
     "output_type": "stream",
     "text": [
      "Processing /Users/yukewei/SP-testing/HackRFOneSignal/KeyFobSignal: 100%|██████████| 2664/2664 [00:20<00:00, 132.57it/s]\n",
      "Processing /Users/yukewei/SP-testing/HackRFOneSignal/KeyFobSignal: 100%|██████████| 2664/2664 [00:06<00:00, 386.27it/s]\n",
      "Processing /Users/yukewei/SP-testing/HackRFOneSignal/AttackerSignal: 100%|██████████| 1418/1418 [00:03<00:00, 375.46it/s]\n",
      "Processing /Users/yukewei/SP-testing/HackRFOneSignal/AttackerSignal: 100%|██████████| 1418/1418 [00:01<00:00, 893.03it/s]\n",
      "Processing /Users/yukewei/SP-testing/Generated Signal: 100%|██████████| 1/1 [00:00<00:00, 38479.85it/s]\n",
      "Processing /Users/yukewei/SP-testing/Generated Signal: 100%|██████████| 1/1 [00:00<00:00, 33288.13it/s]\n"
     ]
    }
   ],
   "source": [
    "# Process audio files for Class 1\n",
    "process_audio_folder(KEYFOBFOLDER, input_data_1)\n",
    "\n",
    "# Process audio files for Class 0\n",
    "process_audio_folder(ATTACKERFOLDER, input_data_0)\n",
    "process_audio_folder(GENERATEDFOLDER, input_data_0)"
   ]
  }
 ],
 "metadata": {
  "kernelspec": {
   "display_name": "tensorflow",
   "language": "python",
   "name": "python3"
  },
  "language_info": {
   "codemirror_mode": {
    "name": "ipython",
    "version": 3
   },
   "file_extension": ".py",
   "mimetype": "text/x-python",
   "name": "python",
   "nbconvert_exporter": "python",
   "pygments_lexer": "ipython3",
   "version": "3.9.16"
  }
 },
 "nbformat": 4,
 "nbformat_minor": 2
}
